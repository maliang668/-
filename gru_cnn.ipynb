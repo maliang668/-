{
 "cells": [
  {
   "cell_type": "code",
   "execution_count": 67,
   "metadata": {},
   "outputs": [],
   "source": [
    "import numpy as np \n",
    "import pandas as pd \n",
    "import random\n",
    "import copy\n",
    "\n",
    "from keras.models import Model\n",
    "from keras.layers import LSTM, Bidirectional, GlobalMaxPooling1D, Dropout, Embedding\n",
    "from keras.layers import GlobalAveragePooling1D, concatenate, CuDNNLSTM, Conv1D,BatchNormalization\n",
    "from keras.layers.core import SpatialDropout1D\n",
    "from keras.preprocessing import text, sequence\n",
    "from keras.callbacks import EarlyStopping, ModelCheckpoint\n",
    "from sklearn.model_selection import train_test_split\n",
    "from keras.layers import Dense, Input, LSTM, Bidirectional, Conv1D\n",
    "from gensim.models.keyedvectors import KeyedVectors\n",
    "\n",
    "from sklearn.metrics import roc_auc_score\n",
    "from keras.callbacks import Callback\n",
    "from iterstrat.ml_stratifiers import MultilabelStratifiedKFold\n",
    "\n",
    "import matplotlib.pyplot as plt\n",
    "%matplotlib inline "
   ]
  },
  {
   "cell_type": "code",
   "execution_count": 2,
   "metadata": {},
   "outputs": [],
   "source": [
    "train = pd.read_csv('train_pre2.csv')\n",
    "test = pd.read_csv('test_pre2.csv')\n",
    "subm = pd.read_csv('sample_submission.csv')"
   ]
  },
  {
   "cell_type": "code",
   "execution_count": 3,
   "metadata": {},
   "outputs": [],
   "source": [
    "X_train_list = train[\"comment_text\"].fillna(\"fillna\").values\n",
    "list_classes = [\"toxic\", \"severe_toxic\", \"obscene\", \"threat\", \"insult\", \"identity_hate\"]\n",
    "y_train_list = train[list_classes].values\n",
    "X_test_list = test[\"comment_text\"].fillna(\"fillna\").values"
   ]
  },
  {
   "cell_type": "code",
   "execution_count": 4,
   "metadata": {},
   "outputs": [],
   "source": [
    "max_features = 100000\n",
    "max_len = 150\n",
    "embed_size=300"
   ]
  },
  {
   "cell_type": "code",
   "execution_count": 5,
   "metadata": {},
   "outputs": [],
   "source": [
    "tokenizer = text.Tokenizer(num_words=max_features)\n",
    "tokenizer.fit_on_texts(list(X_train_list) + list(X_test_list))"
   ]
  },
  {
   "cell_type": "code",
   "execution_count": 6,
   "metadata": {},
   "outputs": [],
   "source": [
    "X_train_sequences = tokenizer.texts_to_sequences(X_train_list)\n",
    "X_test_sequences = tokenizer.texts_to_sequences(X_test_list)"
   ]
  },
  {
   "cell_type": "code",
   "execution_count": 7,
   "metadata": {},
   "outputs": [],
   "source": [
    "X_train_sequences_pad = sequence.pad_sequences(X_train_sequences, maxlen=max_len)\n",
    "X_test_sequences_pad = sequence.pad_sequences(X_test_sequences, maxlen=max_len)"
   ]
  },
  {
   "cell_type": "code",
   "execution_count": 8,
   "metadata": {},
   "outputs": [],
   "source": [
    "word_index = tokenizer.word_index"
   ]
  },
  {
   "cell_type": "code",
   "execution_count": 9,
   "metadata": {},
   "outputs": [],
   "source": [
    "nb_words = min(max_features, len(word_index))"
   ]
  },
  {
   "cell_type": "code",
   "execution_count": 10,
   "metadata": {},
   "outputs": [],
   "source": [
    "embedding_vec = 'crawl-300d-2M.vec'"
   ]
  },
  {
   "cell_type": "code",
   "execution_count": 11,
   "metadata": {},
   "outputs": [],
   "source": [
    "model = KeyedVectors.load_word2vec_format(embedding_vec, binary=False)"
   ]
  },
  {
   "cell_type": "code",
   "execution_count": 12,
   "metadata": {},
   "outputs": [
    {
     "data": {
      "text/plain": [
       "(100000, 300)"
      ]
     },
     "execution_count": 12,
     "metadata": {},
     "output_type": "execute_result"
    }
   ],
   "source": [
    "embedding_matrix_fast_text = np.zeros((nb_words, embed_size))\n",
    "for word, i in word_index.items():\n",
    "    if i >= max_features:\n",
    "        continue\n",
    "    embedding_vector = model[word] if word in model else None\n",
    "    if embedding_vector is not None:\n",
    "        embedding_matrix_fast_text[i] = embedding_vector\n",
    "embedding_matrix_fast_text.shape"
   ]
  },
  {
   "cell_type": "code",
   "execution_count": 13,
   "metadata": {},
   "outputs": [],
   "source": [
    "embedding_glove = 'glove.840B.300d.txt'"
   ]
  },
  {
   "cell_type": "code",
   "execution_count": 14,
   "metadata": {},
   "outputs": [],
   "source": [
    "embedding_index_glove = {}\n",
    "with open(embedding_glove,encoding ='utf-8') as f:\n",
    "    for line in f:\n",
    "        values = line.split(' ')\n",
    "        word = values[0]\n",
    "        cof = np.asarray(values[1:],dtype = 'float32')\n",
    "        embedding_index_glove[word] = cof"
   ]
  },
  {
   "cell_type": "code",
   "execution_count": 15,
   "metadata": {},
   "outputs": [],
   "source": [
    "embedding_matrix_glove = np.zeros((nb_words,embed_size))\n",
    "for word,i in word_index.items():\n",
    "    if i >= max_features:\n",
    "        continue\n",
    "    embedding_vec_glove = embedding_index_glove.get(word)\n",
    "    if embedding_vec_glove is not None:\n",
    "        embedding_matrix_glove[i] = embedding_vec_glove"
   ]
  },
  {
   "cell_type": "code",
   "execution_count": 16,
   "metadata": {},
   "outputs": [
    {
     "data": {
      "text/plain": [
       "(100000, 300)"
      ]
     },
     "execution_count": 16,
     "metadata": {},
     "output_type": "execute_result"
    }
   ],
   "source": [
    "embedding_matrix_glove.shape"
   ]
  },
  {
   "cell_type": "code",
   "execution_count": 17,
   "metadata": {},
   "outputs": [],
   "source": [
    "from keras import initializers\n",
    "from keras.engine import InputSpec, Layer\n",
    "from keras import backend as K\n",
    "\n",
    "class AttentionWeightedAverage(Layer):\n",
    "\n",
    "    def __init__(self, return_attention=False, **kwargs):\n",
    "        self.init = initializers.get('uniform')\n",
    "        self.supports_masking = True\n",
    "        self.return_attention = return_attention\n",
    "        super(AttentionWeightedAverage, self).__init__(** kwargs)\n",
    "\n",
    "    def build(self, input_shape):\n",
    "        self.input_spec = [InputSpec(ndim=3)]\n",
    "        assert len(input_shape) == 3\n",
    "\n",
    "        self.W = self.add_weight(shape=(input_shape[2], 1),\n",
    "                                 name='{}_W'.format(self.name),\n",
    "                                 initializer=self.init)\n",
    "        self.trainable_weights = [self.W]\n",
    "        super(AttentionWeightedAverage, self).build(input_shape)\n",
    "\n",
    "    def call(self, x, mask=None):\n",
    "        # computes a probability distribution over the timesteps\n",
    "        # uses 'max trick' for numerical stability\n",
    "        # reshape is done to avoid issue with Tensorflow\n",
    "        # and 1-dimensional weights\n",
    "        logits = K.dot(x, self.W)\n",
    "        x_shape = K.shape(x)\n",
    "        logits = K.reshape(logits, (x_shape[0], x_shape[1]))\n",
    "        ai = K.exp(logits - K.max(logits, axis=-1, keepdims=True))\n",
    "\n",
    "        # masked timesteps have zero weight\n",
    "        if mask is not None:\n",
    "            mask = K.cast(mask, K.floatx())\n",
    "            ai = ai * mask\n",
    "        att_weights = ai / (K.sum(ai, axis=1, keepdims=True) + K.epsilon())\n",
    "        weighted_input = x * K.expand_dims(att_weights)\n",
    "        result = K.sum(weighted_input, axis=1)\n",
    "        if self.return_attention:\n",
    "            return [result, att_weights]\n",
    "        return result\n",
    "\n",
    "    def get_output_shape_for(self, input_shape):\n",
    "        return self.compute_output_shape(input_shape)\n",
    "\n",
    "    def compute_output_shape(self, input_shape):\n",
    "        output_len = input_shape[2]\n",
    "        if self.return_attention:\n",
    "            return [(input_shape[0], output_len), (input_shape[0], input_shape[1])]\n",
    "        return (input_shape[0], output_len)\n",
    "\n",
    "    def compute_mask(self, input, input_mask=None):\n",
    "        if isinstance(input_mask, list):\n",
    "            return [None] * len(input_mask)\n",
    "        else:\n",
    "            return None"
   ]
  },
  {
   "cell_type": "code",
   "execution_count": 70,
   "metadata": {},
   "outputs": [],
   "source": [
    "def get_model():\n",
    "    #filter_sizes = [3,4,5]\n",
    "    #num_filters =64\n",
    "    inp = Input(shape=(max_len,))\n",
    "    \n",
    "    x = Embedding(max_features,embed_size,weights=[embedding_matrix_fast_text],trainable = False)(inp)\n",
    "    x = SpatialDropout1D(0.2)(x)\n",
    "    \n",
    "    lstm1 = Bidirectional(CuDNNLSTM(100, return_sequences=True, name = 'bilstm1'))(x)\n",
    "    \n",
    "    lstm2 = Bidirectional(CuDNNLSTM(100, return_sequences=True, return_state = True, name = 'bigru2'))(lstm1)\n",
    "    conc = concatenate([lstm2[0], lstm1, x])\n",
    "    \n",
    "    x2 = Conv1D(64, kernel_size=2, padding=\"same\", activation = 'relu',name = '2gram_conv')(conc)\n",
    "    katt2 = AttentionWeightedAverage(name='2gram_att')(x2)\n",
    "    \n",
    "    x5 = Conv1D(64,kernel_size = 5, padding = 'same',activation = 'relu', name = '5gram_conv')(conc)\n",
    "    katt5 = AttentionWeightedAverage(name='5gram_att')(x5)    \n",
    "    cov = concatenate([katt2,katt5])\n",
    "    \n",
    "    x = BatchNormalization()(cov)\n",
    "    x = Dense(50, activation = 'relu')(x)\n",
    "    x = BatchNormalization()(x)\n",
    "    \n",
    "    out = Dense(6, activation='sigmoid')(x)\n",
    "    \n",
    "    model = Model(inp, out)\n",
    "    model.compile(loss='binary_crossentropy', optimizer='adam', metrics=['accuracy'])\n",
    "    \n",
    "    return model"
   ]
  },
  {
   "cell_type": "code",
   "execution_count": 68,
   "metadata": {},
   "outputs": [],
   "source": [
    "mskf = MultilabelStratifiedKFold(n_splits= 10, random_state=423)"
   ]
  },
  {
   "cell_type": "code",
   "execution_count": 69,
   "metadata": {},
   "outputs": [],
   "source": [
    "early = EarlyStopping(monitor=\"val_loss\", mode=\"auto\", patience=3)"
   ]
  },
  {
   "cell_type": "code",
   "execution_count": 59,
   "metadata": {},
   "outputs": [
    {
     "name": "stdout",
     "output_type": "stream",
     "text": [
      "(?, 150, 150) (?, 150, 300) (?, 150, 150)\n",
      "__________________________________________________________________________________________________\n",
      "Layer (type)                    Output Shape         Param #     Connected to                     \n",
      "==================================================================================================\n",
      "input_20 (InputLayer)           (None, 150)          0                                            \n",
      "__________________________________________________________________________________________________\n",
      "embedding_20 (Embedding)        (None, 150, 300)     30000000    input_20[0][0]                   \n",
      "__________________________________________________________________________________________________\n",
      "spatial_dropout1d_20 (SpatialDr (None, 150, 300)     0           embedding_20[0][0]               \n",
      "__________________________________________________________________________________________________\n",
      "bidirectional_36 (Bidirectional (None, 150, 150)     226200      spatial_dropout1d_20[0][0]       \n",
      "__________________________________________________________________________________________________\n",
      "bidirectional_37 (Bidirectional [(None, 150, 150), ( 136200      bidirectional_36[0][0]           \n",
      "__________________________________________________________________________________________________\n",
      "concatenate_14 (Concatenate)    (None, 150, 600)     0           bidirectional_37[0][0]           \n",
      "                                                                 bidirectional_36[0][0]           \n",
      "                                                                 spatial_dropout1d_20[0][0]       \n",
      "__________________________________________________________________________________________________\n",
      "2gram_conv (Conv1D)             (None, 150, 64)      76864       concatenate_14[0][0]             \n",
      "__________________________________________________________________________________________________\n",
      "5gram_conv (Conv1D)             (None, 150, 64)      192064      concatenate_14[0][0]             \n",
      "__________________________________________________________________________________________________\n",
      "2gram_att (AttentionWeightedAve (None, 64)           64          2gram_conv[0][0]                 \n",
      "__________________________________________________________________________________________________\n",
      "5gram_att (AttentionWeightedAve (None, 64)           64          5gram_conv[0][0]                 \n",
      "__________________________________________________________________________________________________\n",
      "concatenate_15 (Concatenate)    (None, 128)          0           2gram_att[0][0]                  \n",
      "                                                                 5gram_att[0][0]                  \n",
      "__________________________________________________________________________________________________\n",
      "batch_normalization_7 (BatchNor (None, 128)          512         concatenate_15[0][0]             \n",
      "__________________________________________________________________________________________________\n",
      "dense_9 (Dense)                 (None, 50)           6450        batch_normalization_7[0][0]      \n",
      "__________________________________________________________________________________________________\n",
      "batch_normalization_8 (BatchNor (None, 50)           200         dense_9[0][0]                    \n",
      "__________________________________________________________________________________________________\n",
      "dense_10 (Dense)                (None, 6)            306         batch_normalization_8[0][0]      \n",
      "==================================================================================================\n",
      "Total params: 30,638,924\n",
      "Trainable params: 638,568\n",
      "Non-trainable params: 30,000,356\n",
      "__________________________________________________________________________________________________\n",
      "None\n"
     ]
    }
   ],
   "source": [
    "'''val_loss = []\n",
    "for i in drop_list:'''\n",
    "model1 = get_model()\n",
    "print(model1.summary())\n",
    "\n",
    "#val_loss.append(hist.history['val_loss'])"
   ]
  },
  {
   "cell_type": "code",
   "execution_count": 72,
   "metadata": {},
   "outputs": [
    {
     "name": "stdout",
     "output_type": "stream",
     "text": [
      "train_nums, 143614 test_nums: 15957\n",
      "Train on 143614 samples, validate on 15957 samples\n",
      "Epoch 1/50\n",
      " - 144s - loss: 0.0273 - acc: 0.9890 - val_loss: 0.0293 - val_acc: 0.9881\n",
      "Epoch 2/50\n",
      " - 144s - loss: 0.0267 - acc: 0.9893 - val_loss: 0.0295 - val_acc: 0.9879\n",
      "Epoch 3/50\n",
      " - 144s - loss: 0.0261 - acc: 0.9895 - val_loss: 0.0319 - val_acc: 0.9874\n",
      "Epoch 4/50\n",
      " - 144s - loss: 0.0256 - acc: 0.9897 - val_loss: 0.0321 - val_acc: 0.9873\n",
      "train_nums, 143614 test_nums: 15957\n",
      "Train on 143614 samples, validate on 15957 samples\n",
      "Epoch 1/50\n",
      " - 144s - loss: 0.0264 - acc: 0.9896 - val_loss: 0.0199 - val_acc: 0.9925\n",
      "Epoch 2/50\n",
      " - 144s - loss: 0.0255 - acc: 0.9898 - val_loss: 0.0221 - val_acc: 0.9914\n",
      "Epoch 3/50\n",
      " - 144s - loss: 0.0248 - acc: 0.9900 - val_loss: 0.0218 - val_acc: 0.9913\n",
      "Epoch 4/50\n",
      " - 144s - loss: 0.0247 - acc: 0.9900 - val_loss: 0.0222 - val_acc: 0.9912\n",
      "train_nums, 143614 test_nums: 15957\n",
      "Train on 143614 samples, validate on 15957 samples\n",
      "Epoch 1/50\n",
      " - 143s - loss: 0.0245 - acc: 0.9901 - val_loss: 0.0184 - val_acc: 0.9934\n",
      "Epoch 2/50\n",
      " - 144s - loss: 0.0237 - acc: 0.9905 - val_loss: 0.0185 - val_acc: 0.9927\n",
      "Epoch 3/50\n",
      " - 144s - loss: 0.0233 - acc: 0.9907 - val_loss: 0.0200 - val_acc: 0.9923\n",
      "Epoch 4/50\n",
      " - 144s - loss: 0.0226 - acc: 0.9909 - val_loss: 0.0194 - val_acc: 0.9921\n",
      "train_nums, 143614 test_nums: 15957\n",
      "Train on 143614 samples, validate on 15957 samples\n",
      "Epoch 1/50\n",
      " - 143s - loss: 0.0226 - acc: 0.9909 - val_loss: 0.0163 - val_acc: 0.9936\n",
      "Epoch 2/50\n",
      " - 143s - loss: 0.0222 - acc: 0.9911 - val_loss: 0.0165 - val_acc: 0.9938\n",
      "Epoch 3/50\n",
      " - 144s - loss: 0.0216 - acc: 0.9914 - val_loss: 0.0180 - val_acc: 0.9929\n",
      "Epoch 4/50\n",
      " - 144s - loss: 0.0212 - acc: 0.9915 - val_loss: 0.0208 - val_acc: 0.9916\n",
      "train_nums, 143613 test_nums: 15958\n",
      "Train on 143613 samples, validate on 15958 samples\n",
      "Epoch 1/50\n",
      " - 145s - loss: 0.0214 - acc: 0.9914 - val_loss: 0.0132 - val_acc: 0.9955\n",
      "Epoch 2/50\n",
      " - 143s - loss: 0.0206 - acc: 0.9917 - val_loss: 0.0141 - val_acc: 0.9948\n",
      "Epoch 3/50\n",
      " - 143s - loss: 0.0201 - acc: 0.9920 - val_loss: 0.0152 - val_acc: 0.9945\n",
      "Epoch 4/50\n",
      " - 143s - loss: 0.0196 - acc: 0.9921 - val_loss: 0.0148 - val_acc: 0.9943\n",
      "train_nums, 143614 test_nums: 15957\n",
      "Train on 143614 samples, validate on 15957 samples\n",
      "Epoch 1/50\n",
      " - 143s - loss: 0.0199 - acc: 0.9921 - val_loss: 0.0117 - val_acc: 0.9964\n",
      "Epoch 2/50\n",
      " - 143s - loss: 0.0193 - acc: 0.9923 - val_loss: 0.0129 - val_acc: 0.9954\n",
      "Epoch 3/50\n",
      " - 143s - loss: 0.0189 - acc: 0.9924 - val_loss: 0.0127 - val_acc: 0.9953\n",
      "Epoch 4/50\n",
      " - 143s - loss: 0.0185 - acc: 0.9926 - val_loss: 0.0139 - val_acc: 0.9948\n",
      "train_nums, 143614 test_nums: 15957\n",
      "Train on 143614 samples, validate on 15957 samples\n",
      "Epoch 1/50\n",
      " - 143s - loss: 0.0184 - acc: 0.9926 - val_loss: 0.0113 - val_acc: 0.9965\n",
      "Epoch 2/50\n",
      " - 143s - loss: 0.0180 - acc: 0.9929 - val_loss: 0.0120 - val_acc: 0.9959\n",
      "Epoch 3/50\n",
      " - 143s - loss: 0.0176 - acc: 0.9930 - val_loss: 0.0124 - val_acc: 0.9956\n",
      "Epoch 4/50\n",
      " - 144s - loss: 0.0172 - acc: 0.9932 - val_loss: 0.0136 - val_acc: 0.9952\n",
      "train_nums, 143614 test_nums: 15957\n",
      "Train on 143614 samples, validate on 15957 samples\n",
      "Epoch 1/50\n",
      " - 145s - loss: 0.0173 - acc: 0.9932 - val_loss: 0.0107 - val_acc: 0.9966\n",
      "Epoch 2/50\n",
      " - 145s - loss: 0.0172 - acc: 0.9932 - val_loss: 0.0113 - val_acc: 0.9962\n",
      "Epoch 3/50\n",
      " - 144s - loss: 0.0167 - acc: 0.9934 - val_loss: 0.0122 - val_acc: 0.9956\n",
      "Epoch 4/50\n",
      " - 145s - loss: 0.0162 - acc: 0.9935 - val_loss: 0.0135 - val_acc: 0.9953\n",
      "train_nums, 143614 test_nums: 15957\n",
      "Train on 143614 samples, validate on 15957 samples\n",
      "Epoch 1/50\n",
      " - 145s - loss: 0.0164 - acc: 0.9936 - val_loss: 0.0078 - val_acc: 0.9976\n",
      "Epoch 2/50\n",
      " - 145s - loss: 0.0158 - acc: 0.9938 - val_loss: 0.0094 - val_acc: 0.9971\n",
      "Epoch 3/50\n",
      " - 145s - loss: 0.0154 - acc: 0.9938 - val_loss: 0.0091 - val_acc: 0.9969\n",
      "Epoch 4/50\n",
      " - 145s - loss: 0.0149 - acc: 0.9941 - val_loss: 0.0106 - val_acc: 0.9962\n",
      "train_nums, 143614 test_nums: 15957\n",
      "Train on 143614 samples, validate on 15957 samples\n",
      "Epoch 1/50\n",
      " - 144s - loss: 0.0152 - acc: 0.9940 - val_loss: 0.0087 - val_acc: 0.9976\n",
      "Epoch 2/50\n",
      " - 144s - loss: 0.0149 - acc: 0.9941 - val_loss: 0.0099 - val_acc: 0.9970\n",
      "Epoch 3/50\n",
      " - 144s - loss: 0.0146 - acc: 0.9943 - val_loss: 0.0098 - val_acc: 0.9970\n",
      "Epoch 4/50\n",
      " - 145s - loss: 0.0142 - acc: 0.9944 - val_loss: 0.0097 - val_acc: 0.9969\n"
     ]
    }
   ],
   "source": [
    "subs = []\n",
    "for train_index,text_index in mskf.split(X_train_sequences_pad,y_train_list):        \n",
    "    print('train_nums,',len(train_index),'test_nums:',len(text_index))\n",
    "    train_x,text_x = X_train_sequences_pad[train_index],X_train_sequences_pad[text_index]\n",
    "    train_y,text_y = y_train_list[train_index],y_train_list[text_index]\n",
    "    hist = model1.fit(train_x,train_y,batch_size = 256,epochs = 50,validation_data = (text_x,text_y), verbose = 2,callbacks = [early])\n",
    "        \n",
    "    #result = model1.predict(text_x,batch_size = 256)\n",
    "    #s = roc_auc_score(text_y,result)\n",
    "    #print('roc_auc_score:',s)\n",
    "        \n",
    "    '''tpd = pd.DataFrame(columns=[['id']+list_classes])\n",
    "    tpd[list_classes] = result\n",
    "    tpd ['id'] = text_index\n",
    "    text_cnn_result.append(tpd)'''\n",
    "        \n",
    "    sub = model1.predict(X_test_sequences_pad,batch_size = 256)\n",
    "        \n",
    "    if len(subs) == 0:\n",
    "        subs = sub\n",
    "    else:\n",
    "        subs +=sub"
   ]
  },
  {
   "cell_type": "code",
   "execution_count": 73,
   "metadata": {},
   "outputs": [],
   "source": [
    "subs = subs/10\n",
    "subm[list_classes] = subs\n",
    "subm.to_csv(\"bilstm_cnn_mask_sub.csv\",index=False)"
   ]
  },
  {
   "cell_type": "code",
   "execution_count": 66,
   "metadata": {},
   "outputs": [
    {
     "name": "stdout",
     "output_type": "stream",
     "text": [
      "Train on 143613 samples, validate on 15958 samples\n",
      "Epoch 1/50\n",
      " - 196s - loss: 0.0364 - acc: 0.9856 - val_loss: 0.0411 - val_acc: 0.9843\n",
      "Epoch 2/50\n",
      " - 196s - loss: 0.0354 - acc: 0.9859 - val_loss: 0.0421 - val_acc: 0.9840\n",
      "Epoch 3/50\n",
      " - 195s - loss: 0.0350 - acc: 0.9861 - val_loss: 0.0420 - val_acc: 0.9841\n",
      "Epoch 4/50\n",
      " - 196s - loss: 0.0344 - acc: 0.9864 - val_loss: 0.0411 - val_acc: 0.9844\n",
      "Epoch 5/50\n",
      " - 196s - loss: 0.0335 - acc: 0.9866 - val_loss: 0.0410 - val_acc: 0.9839\n",
      "Epoch 6/50\n",
      " - 196s - loss: 0.0329 - acc: 0.9869 - val_loss: 0.0417 - val_acc: 0.9842\n",
      "Epoch 7/50\n",
      " - 196s - loss: 0.0320 - acc: 0.9870 - val_loss: 0.0424 - val_acc: 0.9838\n",
      "Epoch 8/50\n",
      " - 196s - loss: 0.0313 - acc: 0.9874 - val_loss: 0.0446 - val_acc: 0.9828\n",
      "Epoch 9/50\n",
      " - 195s - loss: 0.0308 - acc: 0.9876 - val_loss: 0.0430 - val_acc: 0.9834\n",
      "Epoch 10/50\n",
      " - 196s - loss: 0.0303 - acc: 0.9879 - val_loss: 0.0460 - val_acc: 0.9826\n"
     ]
    }
   ],
   "source": [
    "#hist = model1.fit(X_train_sequences_pad,y_train_list,batch_size = 128,epochs = 50,validation_split = 0.1, verbose = 2,callbacks = [early])"
   ]
  },
  {
   "cell_type": "code",
   "execution_count": 63,
   "metadata": {},
   "outputs": [
    {
     "data": {
      "image/png": "[encoded data removed]",
      "text/plain": [
       "<Figure size 432x288 with 1 Axes>"
      ]
     },
     "metadata": {},
     "output_type": "display_data"
    }
   ],
   "source": [
    "val_loss = hist.history['val_loss']\n",
    "plt.plot(val_loss)\n",
    "plt.xlabel('Times')\n",
    "plt.ylabel('Val_Loss')\n",
    "plt.show()"
   ]
  },
  {
   "cell_type": "code",
   "execution_count": null,
   "metadata": {},
   "outputs": [],
   "source": []
  }
 ],
 "metadata": {
  "kernelspec": {
   "display_name": "Python [conda env:tensorflow_p36]",
   "language": "python",
   "name": "conda-env-tensorflow_p36-py"
  },
  "language_info": {
   "codemirror_mode": {
    "name": "ipython",
    "version": 3
   },
   "file_extension": ".py",
   "mimetype": "text/x-python",
   "name": "python",
   "nbconvert_exporter": "python",
   "pygments_lexer": "ipython3",
   "version": "3.6.6"
  }
 },
 "nbformat": 4,
 "nbformat_minor": 2
}
