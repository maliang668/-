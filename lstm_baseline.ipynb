{
 "cells": [
  {
   "cell_type": "code",
   "execution_count": 13,
   "metadata": {
    "scrolled": true
   },
   "outputs": [
    {
     "name": "stdout",
     "output_type": "stream",
     "text": [
      "--2018-11-22 04:37:37--  https://storage.googleapis.com/kaggle-datasets/8327/11650/glove.840B.300d.txt.zip?GoogleAccessId=web-data@kaggle-161607.iam.gserviceaccount.com&Expires=1543120595&Signature=gPqE30qRoKDNUfInDFhl%2F20lkEaqWa0VJhr1BSfXZCGV8qVShcLmzJYiDWvd4cmrMnK3ulfU1g5j72BiNhsQX4HNHI7d%2F8yyWgzq6%2FOnj9YFDYwHmd49Mh649M7PZAYV265cq3uk%2FSndVW1h6VP8MVDXJvX5ryK19h3y%2BObH4pkZV426wxnct4GLW9AL02fRsqas9opgsT6z%2FCI1QkuMe2chQcGzeZKmOvkAh7d%2F%2FwS18f2PcvV%2Bj8HXhdnbN9P8vdowE%2FssaJhsYtMiVkNZklkxwRLxwpw1E80m95NsQEHkuwzsidLDgBafhm6SS0%2BD397409JO7A3Lkf9LI91XJA%3D%3D\n",
      "Resolving storage.googleapis.com (storage.googleapis.com)... 172.217.4.240, 2607:f8b0:4009:805::2010\n",
      "Connecting to storage.googleapis.com (storage.googleapis.com)|172.217.4.240|:443... connected.\n",
      "HTTP request sent, awaiting response... 200 OK\n",
      "Length: 2232946667 (2.1G) [application/zip]\n",
      "Saving to: ‘glove.840B.300d.txt’\n",
      "\n",
      "glove.840B.300d.txt 100%[===================>]   2.08G  66.2MB/s    in 35s     \n",
      "\n",
      "2018-11-22 04:38:12 (60.3 MB/s) - ‘glove.840B.300d.txt’ saved [2232946667/2232946667]\n",
      "\n"
     ]
    }
   ],
   "source": [
    "#!wget -c \"https://storage.googleapis.com/kaggle-datasets/8327/11650/glove.840B.300d.txt.zip?GoogleAccessId=web-data@kaggle-161607.iam.gserviceaccount.com&Expires=1543120595&Signature=gPqE30qRoKDNUfInDFhl%2F20lkEaqWa0VJhr1BSfXZCGV8qVShcLmzJYiDWvd4cmrMnK3ulfU1g5j72BiNhsQX4HNHI7d%2F8yyWgzq6%2FOnj9YFDYwHmd49Mh649M7PZAYV265cq3uk%2FSndVW1h6VP8MVDXJvX5ryK19h3y%2BObH4pkZV426wxnct4GLW9AL02fRsqas9opgsT6z%2FCI1QkuMe2chQcGzeZKmOvkAh7d%2F%2FwS18f2PcvV%2Bj8HXhdnbN9P8vdowE%2FssaJhsYtMiVkNZklkxwRLxwpw1E80m95NsQEHkuwzsidLDgBafhm6SS0%2BD397409JO7A3Lkf9LI91XJA%3D%3D\" -O glove.840B.300d.txt"
   ]
  },
  {
   "cell_type": "code",
   "execution_count": 20,
   "metadata": {},
   "outputs": [
    {
     "name": "stdout",
     "output_type": "stream",
     "text": [
      "--2018-11-22 05:00:45--  https://storage.googleapis.com/kaggle-datasets/12162/16683/GoogleNews-vectors-negative300.bin.gz.zip?GoogleAccessId=web-data@kaggle-161607.iam.gserviceaccount.com&Expires=1543121974&Signature=pMXHO4tIabGp%2BVxtJKzGBAJhF5QD%2FWYQnl16eTpoJrUOoU8p1D4ywuq1Otwa4c5hc81Q2Sk2aOx30wvSMTr4pJNG0hiDLeGLNf9ERcrlHE8ObudeCNIXyqYVoRHPsmk0L0J467HGTXVMqs%2BOhFwReJLxmo8W1eXAddxK9spuiLJTqI5PQA7jjSGCTA%2Fj62bOtcll3kBbaI5ZQljyBL03ju5b6N%2B85pCH9fKqNx7gaaH7J25u8xR8xMOc2ERlf8HFFDWk6ybJ1xOkEXf4A34%2BnzBj4%2Fk6winRPLijtLS2ovGq%2FOYIIlsox6qap51Bt83aTnbhu2Y%2F%2FjCt%2FfUKdHUZRg%3D%3D\n",
      "Resolving storage.googleapis.com (storage.googleapis.com)... 216.58.192.240, 2607:f8b0:4009:802::2010\n",
      "Connecting to storage.googleapis.com (storage.googleapis.com)|216.58.192.240|:443... connected.\n",
      "HTTP request sent, awaiting response... 200 OK\n",
      "Length: 1647548659 (1.5G) [application/zip]\n",
      "Saving to: ‘GoogleNews-vectors-negative300.bin.gz.zip’\n",
      "\n",
      "GoogleNews-vectors- 100%[===================>]   1.53G  47.7MB/s    in 29s     \n",
      "\n",
      "2018-11-22 05:01:14 (53.5 MB/s) - ‘GoogleNews-vectors-negative300.bin.gz.zip’ saved [1647548659/1647548659]\n",
      "\n"
     ]
    }
   ],
   "source": [
    "#!wget -c \"https://storage.googleapis.com/kaggle-datasets/12162/16683/GoogleNews-vectors-negative300.bin.gz.zip?GoogleAccessId=web-data@kaggle-161607.iam.gserviceaccount.com&Expires=1543121974&Signature=pMXHO4tIabGp%2BVxtJKzGBAJhF5QD%2FWYQnl16eTpoJrUOoU8p1D4ywuq1Otwa4c5hc81Q2Sk2aOx30wvSMTr4pJNG0hiDLeGLNf9ERcrlHE8ObudeCNIXyqYVoRHPsmk0L0J467HGTXVMqs%2BOhFwReJLxmo8W1eXAddxK9spuiLJTqI5PQA7jjSGCTA%2Fj62bOtcll3kBbaI5ZQljyBL03ju5b6N%2B85pCH9fKqNx7gaaH7J25u8xR8xMOc2ERlf8HFFDWk6ybJ1xOkEXf4A34%2BnzBj4%2Fk6winRPLijtLS2ovGq%2FOYIIlsox6qap51Bt83aTnbhu2Y%2F%2FjCt%2FfUKdHUZRg%3D%3D\" -O GoogleNews-vectors-negative300.bin.gz.zip"
   ]
  },
  {
   "cell_type": "code",
   "execution_count": 17,
   "metadata": {},
   "outputs": [
    {
     "name": "stdout",
     "output_type": "stream",
     "text": [
      "--2018-12-20 11:19:23--  https://nlp.stanford.edu/data/glove.840B.300d.zip\n",
      "Resolving nlp.stanford.edu (nlp.stanford.edu)... 171.64.67.140\n",
      "Connecting to nlp.stanford.edu (nlp.stanford.edu)|171.64.67.140|:443... connected.\n",
      "HTTP request sent, awaiting response... 200 OK\n",
      "Length: 2176768927 (2.0G) [application/zip]\n",
      "Saving to: ‘glove.840B.300d.zip’\n",
      "\n",
      "glove.840B.300d.zip 100%[===================>]   2.03G  24.6MB/s    in 86s     \n",
      "\n",
      "2018-12-20 11:20:50 (24.1 MB/s) - ‘glove.840B.300d.zip’ saved [2176768927/2176768927]\n",
      "\n"
     ]
    }
   ],
   "source": [
    "!wget -c \"https://nlp.stanford.edu/data/glove.840B.300d.zip\" -O glove.840B.300d.zip"
   ]
  },
  {
   "cell_type": "code",
   "execution_count": 21,
   "metadata": {},
   "outputs": [
    {
     "name": "stdout",
     "output_type": "stream",
     "text": [
      "Archive:  glove.840B.300d.zip\n",
      "  inflating: glove.840B.300d.txt     \n"
     ]
    }
   ],
   "source": [
    "#!unzip glove.840B.300d.zip"
   ]
  },
  {
   "cell_type": "code",
   "execution_count": 77,
   "metadata": {},
   "outputs": [],
   "source": [
    "import numpy as np \n",
    "import pandas as pd \n",
    "\n",
    "from keras.models import Model\n",
    "from keras.layers import LSTM, Bidirectional, GlobalMaxPooling1D, Dropout, Embedding\n",
    "from keras.layers import GlobalAveragePooling1D, concatenate, SpatialDropout1D\n",
    "from keras.preprocessing import text, sequence\n",
    "from keras.callbacks import EarlyStopping, ModelCheckpoint\n",
    "from sklearn.model_selection import train_test_split\n",
    "from keras.layers import Dense, Input, LSTM, Bidirectional, Conv1D\n",
    "\n",
    "from sklearn.metrics import roc_auc_score\n",
    "from keras.callbacks import Callback\n",
    "\n",
    "\n",
    "import matplotlib.pyplot as plt\n",
    "%matplotlib inline "
   ]
  },
  {
   "cell_type": "code",
   "execution_count": 55,
   "metadata": {},
   "outputs": [],
   "source": [
    "train = pd.read_csv('train_pre.csv')\n",
    "test = pd.read_csv('test_pre.csv')\n",
    "subm = pd.read_csv('sample_submission.csv')"
   ]
  },
  {
   "cell_type": "code",
   "execution_count": 56,
   "metadata": {},
   "outputs": [],
   "source": [
    "train_x = train[\"comment_text\"].fillna('').values\n",
    "list_classes = [\"toxic\", \"severe_toxic\", \"obscene\", \"threat\", \"insult\", \"identity_hate\"]\n",
    "train_y = train[list_classes].values\n",
    "text_x = test[\"comment_text\"].fillna('').values"
   ]
  },
  {
   "cell_type": "code",
   "execution_count": 57,
   "metadata": {},
   "outputs": [],
   "source": [
    "max_features = 100000\n",
    "max_len = 150\n",
    "embed_size=300"
   ]
  },
  {
   "cell_type": "code",
   "execution_count": 58,
   "metadata": {},
   "outputs": [],
   "source": [
    "tokenizer = text.Tokenizer(num_words=max_features)\n",
    "tokenizer.fit_on_texts(list(train_x)+list(text_x))\n",
    "\n",
    "X_train = tokenizer.texts_to_sequences(train_x)\n",
    "X_test = tokenizer.texts_to_sequences(text_x)"
   ]
  },
  {
   "cell_type": "code",
   "execution_count": 59,
   "metadata": {},
   "outputs": [
    {
     "data": {
      "text/plain": [
       "394787"
      ]
     },
     "execution_count": 59,
     "metadata": {},
     "output_type": "execute_result"
    }
   ],
   "source": [
    "len(tokenizer.word_index)"
   ]
  },
  {
   "cell_type": "code",
   "execution_count": 60,
   "metadata": {},
   "outputs": [],
   "source": [
    "X_train = sequence.pad_sequences(X_train, maxlen=max_len)\n",
    "X_test = sequence.pad_sequences(X_test, maxlen=max_len)"
   ]
  },
  {
   "cell_type": "code",
   "execution_count": 61,
   "metadata": {},
   "outputs": [],
   "source": [
    "embedding = 'glove.840B.300d.txt'"
   ]
  },
  {
   "cell_type": "code",
   "execution_count": 62,
   "metadata": {},
   "outputs": [
    {
     "name": "stdout",
     "output_type": "stream",
     "text": [
      "2196016\n"
     ]
    }
   ],
   "source": [
    "embedding_index = {}\n",
    "with open(embedding,encoding ='utf-8') as f:\n",
    "    for line in f:\n",
    "        values = line.split(' ')\n",
    "        word = values[0]\n",
    "        cof = np.asarray(values[1:],dtype = 'float32')\n",
    "        embedding_index[word] = cof\n",
    "print(len(embedding_index))"
   ]
  },
  {
   "cell_type": "code",
   "execution_count": 63,
   "metadata": {},
   "outputs": [],
   "source": [
    "word_index = tokenizer.word_index\n",
    "num_words = max_features\n",
    "embedding_matrix = np.zeros((num_words,embed_size))\n",
    "for word,i in word_index.items():\n",
    "    if i >= max_features:\n",
    "        continue\n",
    "    embedding_vec = embedding_index.get(word)\n",
    "    if embedding_vec is not None:\n",
    "        embedding_matrix[i] = embedding_vec"
   ]
  },
  {
   "cell_type": "code",
   "execution_count": 64,
   "metadata": {},
   "outputs": [
    {
     "data": {
      "text/plain": [
       "(100000, 300)"
      ]
     },
     "execution_count": 64,
     "metadata": {},
     "output_type": "execute_result"
    }
   ],
   "source": [
    "embedding_matrix.shape"
   ]
  },
  {
   "cell_type": "code",
   "execution_count": 72,
   "metadata": {},
   "outputs": [],
   "source": [
    "def get_model():\n",
    "    inp = Input(shape=(max_len,))\n",
    "    x = Embedding(max_features,embed_size,weights=[embedding_matrix])(inp)\n",
    "    x = Bidirectional(LSTM(128, return_sequences=True, dropout=0.3,recurrent_dropout=0.1))(x)\n",
    "    x = Conv1D(64, kernel_size=3, padding='valid', kernel_initializer='glorot_uniform')(x)\n",
    "    \n",
    "    avg_pool = GlobalAveragePooling1D()(x)\n",
    "    max_pool = GlobalMaxPooling1D()(x)\n",
    "    x = concatenate([avg_pool, max_pool])\n",
    "    \n",
    "    x = Dense(32, activation=\"relu\")(x)\n",
    "    x = Dropout(0.1)(x)\n",
    "    out = Dense(6, activation='sigmoid')(x)\n",
    "    \n",
    "    model = Model(inp, out)\n",
    "    model.compile(loss='binary_crossentropy', optimizer='adam', metrics=['accuracy'])\n",
    "    \n",
    "    return model"
   ]
  },
  {
   "cell_type": "code",
   "execution_count": 73,
   "metadata": {},
   "outputs": [],
   "source": [
    "batch_size = 64\n",
    "epoch = 3\n",
    "ls_list = []\n",
    "ac_list = []"
   ]
  },
  {
   "cell_type": "code",
   "execution_count": 74,
   "metadata": {
    "scrolled": false
   },
   "outputs": [
    {
     "name": "stdout",
     "output_type": "stream",
     "text": [
      "Train on 127656 samples, validate on 31915 samples\n",
      "Epoch 1/3\n",
      " - 1358s - loss: 0.0550 - acc: 0.9800 - val_loss: 0.0426 - val_acc: 0.9831\n",
      "Epoch 2/3\n",
      " - 1343s - loss: 0.0394 - acc: 0.9844 - val_loss: 0.0430 - val_acc: 0.9838\n",
      "Epoch 3/3\n",
      " - 1366s - loss: 0.0331 - acc: 0.9864 - val_loss: 0.0450 - val_acc: 0.9834\n"
     ]
    }
   ],
   "source": [
    "x_train,x_test,y_train,y_test = train_test_split(X_train,train_y,test_size = 0.2,random_state=28)\n",
    "model = get_model()\n",
    "hist = model.fit(x_train,y_train,batch_size = batch_size,epochs = epoch,validation_data = (x_test,y_test),verbose = 2)\n",
    "ls_list.append(hist.history['val_loss'])\n",
    "ac_list.append(hist.history['val_loss'])"
   ]
  },
  {
   "cell_type": "markdown",
   "metadata": {},
   "source": [
    "结果还不错，在embedding层将trainable设置为True进行fine-tuning"
   ]
  },
  {
   "cell_type": "code",
   "execution_count": 82,
   "metadata": {},
   "outputs": [],
   "source": [
    "def get_model():\n",
    "    inp = Input(shape=(max_len,))\n",
    "    x = Embedding(max_features,embed_size,weights=[embedding_matrix],trainable = True)(inp)\n",
    "    x = Bidirectional(LSTM(128, return_sequences=True, dropout=0.3))(x)\n",
    "    x = Conv1D(64, kernel_size=3, padding='valid', kernel_initializer='glorot_uniform')(x)\n",
    "    \n",
    "    avg_pool = GlobalAveragePooling1D()(x)\n",
    "    max_pool = GlobalMaxPooling1D()(x)\n",
    "    x = concatenate([avg_pool, max_pool])\n",
    "    \n",
    "    x = Dense(32, activation=\"relu\")(x)\n",
    "    x = Dropout(0.1)(x)\n",
    "    out = Dense(6, activation='sigmoid')(x)\n",
    "    \n",
    "    model = Model(inp, out)\n",
    "    model.compile(loss='binary_crossentropy', optimizer='adam', metrics=['accuracy'])\n",
    "    \n",
    "    return model"
   ]
  },
  {
   "cell_type": "markdown",
   "metadata": {},
   "source": [
    "这里设置不同的dropou也会影响结果，但是这个模型的计算量有点庞大，计算资源不太吃得消，就选择一个别人用得较多的了"
   ]
  },
  {
   "cell_type": "code",
   "execution_count": 78,
   "metadata": {},
   "outputs": [],
   "source": [
    "class RocAucEvaluation(Callback):\n",
    "    def __init__(self, validation_data=(), interval=1):\n",
    "        super(Callback, self).__init__()\n",
    "\n",
    "        self.interval = interval\n",
    "        self.X_val, self.y_val = validation_data\n",
    "\n",
    "    def on_epoch_end(self, epoch, logs={}):\n",
    "        if epoch % self.interval == 0:\n",
    "            y_pred = self.model.predict(self.X_val, verbose=2)\n",
    "            score = roc_auc_score(self.y_val, y_pred)\n",
    "            print(\"\\n ROC-AUC - epoch: {:d} - score: {:.6f}\".format(epoch, score))"
   ]
  },
  {
   "cell_type": "code",
   "execution_count": 80,
   "metadata": {},
   "outputs": [],
   "source": [
    "file_path=\"bi-lstm-weights_base.best.hdf5\"\n",
    "RocAuc = RocAucEvaluation(validation_data=(x_train, y_train), interval=1)\n",
    "checkpoint = ModelCheckpoint(file_path, monitor='val_acc', verbose=2, save_best_only=True, mode='auto')\n",
    "early = EarlyStopping(monitor=\"val_loss\", mode=\"auto\", patience=20)"
   ]
  },
  {
   "cell_type": "code",
   "execution_count": 83,
   "metadata": {},
   "outputs": [
    {
     "name": "stdout",
     "output_type": "stream",
     "text": [
      "Train on 127656 samples, validate on 31915 samples\n",
      "Epoch 1/3\n",
      "127656/127656 [==============================] - 1264s 10ms/step - loss: 0.0536 - acc: 0.9808 - val_loss: 0.0424 - val_acc: 0.9835\n",
      "\n",
      "Epoch 00001: val_acc improved from -inf to 0.98352, saving model to bi-lstm-weights_base.best.hdf5\n",
      "\n",
      " ROC-AUC - epoch: 0 - score: 0.990156\n",
      "Epoch 2/3\n",
      "127656/127656 [==============================] - 1226s 10ms/step - loss: 0.0390 - acc: 0.9844 - val_loss: 0.0433 - val_acc: 0.9840\n",
      "\n",
      "Epoch 00002: val_acc improved from 0.98352 to 0.98395, saving model to bi-lstm-weights_base.best.hdf5\n",
      "\n",
      " ROC-AUC - epoch: 1 - score: 0.994347\n",
      "Epoch 3/3\n",
      "127656/127656 [==============================] - 1225s 10ms/step - loss: 0.0329 - acc: 0.9865 - val_loss: 0.0459 - val_acc: 0.9840\n",
      "\n",
      "Epoch 00003: val_acc improved from 0.98395 to 0.98403, saving model to bi-lstm-weights_base.best.hdf5\n",
      "\n",
      " ROC-AUC - epoch: 2 - score: 0.996325\n"
     ]
    },
    {
     "data": {
      "text/plain": [
       "<keras.callbacks.History at 0x7eff547f6eb8>"
      ]
     },
     "execution_count": 83,
     "metadata": {},
     "output_type": "execute_result"
    }
   ],
   "source": [
    "callbacks_list = [checkpoint, early, RocAuc]\n",
    "model = get_model()\n",
    "model.fit(x_train, y_train, batch_size=batch_size, epochs=epoch, validation_data = (x_test,y_test),callbacks=callbacks_list)"
   ]
  },
  {
   "cell_type": "markdown",
   "metadata": {},
   "source": [
    "得分很高，但是具体情况要提交才知道"
   ]
  },
  {
   "cell_type": "code",
   "execution_count": 84,
   "metadata": {},
   "outputs": [],
   "source": [
    "model.load_weights(file_path)\n",
    "y_test = model.predict(X_test)"
   ]
  },
  {
   "cell_type": "code",
   "execution_count": 85,
   "metadata": {},
   "outputs": [],
   "source": [
    "sample_submission = pd.read_csv(\"sample_submission.csv\")\n",
    "sample_submission[list_classes] = y_test\n",
    "\n",
    "sample_submission.to_csv(\"submission_lstm.csv\", index=False)"
   ]
  },
  {
   "cell_type": "code",
   "execution_count": null,
   "metadata": {},
   "outputs": [],
   "source": []
  }
 ],
 "metadata": {
  "kernelspec": {
   "display_name": "Python [conda env:tensorflow_p36]",
   "language": "python",
   "name": "conda-env-tensorflow_p36-py"
  },
  "language_info": {
   "codemirror_mode": {
    "name": "ipython",
    "version": 3
   },
   "file_extension": ".py",
   "mimetype": "text/x-python",
   "name": "python",
   "nbconvert_exporter": "python",
   "pygments_lexer": "ipython3",
   "version": "3.6.6"
  }
 },
 "nbformat": 4,
 "nbformat_minor": 2
}
