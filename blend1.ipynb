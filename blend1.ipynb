{
 "cells": [
  {
   "cell_type": "code",
   "execution_count": 9,
   "metadata": {},
   "outputs": [],
   "source": [
    "import numpy as np \n",
    "import pandas as pd \n",
    "from sklearn.preprocessing import minmax_scale\n",
    "\n",
    "'''submission_1 = pd.read_csv(\"submission-textcnn2.csv\")                    #0.979\n",
    "submission_2 = pd.read_csv(\"submission_lr.csv\")                  #0.9782\n",
    "submission_3 = pd.read_csv(\"submission_lstm.csv\")                     #0.982'''\n",
    "\n",
    "sub1 = pd.read_csv('0.98tm_submssionbi-lstm-10-fold.csv')\n",
    "sub2 = pd.read_csv('0.9869textcnn_submssioncnn-10-fold.csv')\n",
    "sub3 = pd.read_csv(\"submission_lr.csv\")  \n",
    "\n",
    "blend = submission_3.copy()\n",
    "col = blend.columns"
   ]
  },
  {
   "cell_type": "code",
   "execution_count": 10,
   "metadata": {},
   "outputs": [
    {
     "data": {
      "text/html": [
       "<div>\n",
       "<style scoped>\n",
       "    .dataframe tbody tr th:only-of-type {\n",
       "        vertical-align: middle;\n",
       "    }\n",
       "\n",
       "    .dataframe tbody tr th {\n",
       "        vertical-align: top;\n",
       "    }\n",
       "\n",
       "    .dataframe thead th {\n",
       "        text-align: right;\n",
       "    }\n",
       "</style>\n",
       "<table border=\"1\" class=\"dataframe\">\n",
       "  <thead>\n",
       "    <tr style=\"text-align: right;\">\n",
       "      <th></th>\n",
       "      <th>id</th>\n",
       "      <th>toxic</th>\n",
       "      <th>severe_toxic</th>\n",
       "      <th>obscene</th>\n",
       "      <th>threat</th>\n",
       "      <th>insult</th>\n",
       "      <th>identity_hate</th>\n",
       "    </tr>\n",
       "  </thead>\n",
       "  <tbody>\n",
       "    <tr>\n",
       "      <th>0</th>\n",
       "      <td>00001cee341fdb12</td>\n",
       "      <td>0.999802</td>\n",
       "      <td>4.774746e-01</td>\n",
       "      <td>9.846950e-01</td>\n",
       "      <td>2.600611e-01</td>\n",
       "      <td>0.956651</td>\n",
       "      <td>2.942494e-01</td>\n",
       "    </tr>\n",
       "    <tr>\n",
       "      <th>1</th>\n",
       "      <td>0000247867823ef7</td>\n",
       "      <td>0.000008</td>\n",
       "      <td>1.001766e-12</td>\n",
       "      <td>7.067682e-07</td>\n",
       "      <td>5.889907e-09</td>\n",
       "      <td>0.000002</td>\n",
       "      <td>3.751409e-09</td>\n",
       "    </tr>\n",
       "    <tr>\n",
       "      <th>2</th>\n",
       "      <td>00013b17ad220c46</td>\n",
       "      <td>0.000029</td>\n",
       "      <td>7.640322e-11</td>\n",
       "      <td>5.104831e-06</td>\n",
       "      <td>1.455284e-07</td>\n",
       "      <td>0.000011</td>\n",
       "      <td>9.698881e-08</td>\n",
       "    </tr>\n",
       "    <tr>\n",
       "      <th>3</th>\n",
       "      <td>00017563c3f7919a</td>\n",
       "      <td>0.000051</td>\n",
       "      <td>2.560379e-11</td>\n",
       "      <td>6.031402e-06</td>\n",
       "      <td>3.634127e-08</td>\n",
       "      <td>0.000017</td>\n",
       "      <td>3.932794e-08</td>\n",
       "    </tr>\n",
       "    <tr>\n",
       "      <th>4</th>\n",
       "      <td>00017695ad8997eb</td>\n",
       "      <td>0.000058</td>\n",
       "      <td>1.701672e-10</td>\n",
       "      <td>7.344144e-06</td>\n",
       "      <td>2.711431e-07</td>\n",
       "      <td>0.000015</td>\n",
       "      <td>1.305792e-07</td>\n",
       "    </tr>\n",
       "  </tbody>\n",
       "</table>\n",
       "</div>"
      ],
      "text/plain": [
       "                 id     toxic  severe_toxic       obscene        threat  \\\n",
       "0  00001cee341fdb12  0.999802  4.774746e-01  9.846950e-01  2.600611e-01   \n",
       "1  0000247867823ef7  0.000008  1.001766e-12  7.067682e-07  5.889907e-09   \n",
       "2  00013b17ad220c46  0.000029  7.640322e-11  5.104831e-06  1.455284e-07   \n",
       "3  00017563c3f7919a  0.000051  2.560379e-11  6.031402e-06  3.634127e-08   \n",
       "4  00017695ad8997eb  0.000058  1.701672e-10  7.344144e-06  2.711431e-07   \n",
       "\n",
       "     insult  identity_hate  \n",
       "0  0.956651   2.942494e-01  \n",
       "1  0.000002   3.751409e-09  \n",
       "2  0.000011   9.698881e-08  \n",
       "3  0.000017   3.932794e-08  \n",
       "4  0.000015   1.305792e-07  "
      ]
     },
     "execution_count": 10,
     "metadata": {},
     "output_type": "execute_result"
    }
   ],
   "source": [
    "blend.head()"
   ]
  },
  {
   "cell_type": "code",
   "execution_count": 11,
   "metadata": {},
   "outputs": [],
   "source": [
    "col = col.tolist()\n",
    "col.remove('id')\n",
    "\n",
    "a= 0.25\n",
    "b = 0.25\n",
    "c = 0.5\n",
    "\n",
    "blend[col] = a*minmax_scale(submission_1[col].values) + b*minmax_scale(submission_2[col].values) + c*minmax_scale(submission_3[col].values) "
   ]
  },
  {
   "cell_type": "code",
   "execution_count": 8,
   "metadata": {},
   "outputs": [
    {
     "data": {
      "text/html": [
       "<div>\n",
       "<style scoped>\n",
       "    .dataframe tbody tr th:only-of-type {\n",
       "        vertical-align: middle;\n",
       "    }\n",
       "\n",
       "    .dataframe tbody tr th {\n",
       "        vertical-align: top;\n",
       "    }\n",
       "\n",
       "    .dataframe thead th {\n",
       "        text-align: right;\n",
       "    }\n",
       "</style>\n",
       "<table border=\"1\" class=\"dataframe\">\n",
       "  <thead>\n",
       "    <tr style=\"text-align: right;\">\n",
       "      <th></th>\n",
       "      <th>id</th>\n",
       "      <th>toxic</th>\n",
       "      <th>severe_toxic</th>\n",
       "      <th>obscene</th>\n",
       "      <th>threat</th>\n",
       "      <th>insult</th>\n",
       "      <th>identity_hate</th>\n",
       "    </tr>\n",
       "  </thead>\n",
       "  <tbody>\n",
       "    <tr>\n",
       "      <th>0</th>\n",
       "      <td>00001cee341fdb12</td>\n",
       "      <td>0.999744</td>\n",
       "      <td>0.459774</td>\n",
       "      <td>0.989995</td>\n",
       "      <td>0.171497</td>\n",
       "      <td>0.967146</td>\n",
       "      <td>0.328293</td>\n",
       "    </tr>\n",
       "    <tr>\n",
       "      <th>1</th>\n",
       "      <td>0000247867823ef7</td>\n",
       "      <td>0.002287</td>\n",
       "      <td>0.000500</td>\n",
       "      <td>0.000909</td>\n",
       "      <td>0.000194</td>\n",
       "      <td>0.001333</td>\n",
       "      <td>0.000642</td>\n",
       "    </tr>\n",
       "    <tr>\n",
       "      <th>2</th>\n",
       "      <td>00013b17ad220c46</td>\n",
       "      <td>0.007300</td>\n",
       "      <td>0.000889</td>\n",
       "      <td>0.002828</td>\n",
       "      <td>0.000426</td>\n",
       "      <td>0.002139</td>\n",
       "      <td>0.000666</td>\n",
       "    </tr>\n",
       "    <tr>\n",
       "      <th>3</th>\n",
       "      <td>00017563c3f7919a</td>\n",
       "      <td>0.001264</td>\n",
       "      <td>0.000549</td>\n",
       "      <td>0.000720</td>\n",
       "      <td>0.000236</td>\n",
       "      <td>0.001021</td>\n",
       "      <td>0.000177</td>\n",
       "    </tr>\n",
       "    <tr>\n",
       "      <th>4</th>\n",
       "      <td>00017695ad8997eb</td>\n",
       "      <td>0.009225</td>\n",
       "      <td>0.000731</td>\n",
       "      <td>0.002209</td>\n",
       "      <td>0.000636</td>\n",
       "      <td>0.002711</td>\n",
       "      <td>0.000566</td>\n",
       "    </tr>\n",
       "  </tbody>\n",
       "</table>\n",
       "</div>"
      ],
      "text/plain": [
       "                 id     toxic  severe_toxic   obscene    threat    insult  \\\n",
       "0  00001cee341fdb12  0.999744      0.459774  0.989995  0.171497  0.967146   \n",
       "1  0000247867823ef7  0.002287      0.000500  0.000909  0.000194  0.001333   \n",
       "2  00013b17ad220c46  0.007300      0.000889  0.002828  0.000426  0.002139   \n",
       "3  00017563c3f7919a  0.001264      0.000549  0.000720  0.000236  0.001021   \n",
       "4  00017695ad8997eb  0.009225      0.000731  0.002209  0.000636  0.002711   \n",
       "\n",
       "   identity_hate  \n",
       "0       0.328293  \n",
       "1       0.000642  \n",
       "2       0.000666  \n",
       "3       0.000177  \n",
       "4       0.000566  "
      ]
     },
     "execution_count": 8,
     "metadata": {},
     "output_type": "execute_result"
    }
   ],
   "source": [
    "blend.head()"
   ]
  },
  {
   "cell_type": "code",
   "execution_count": 12,
   "metadata": {},
   "outputs": [],
   "source": [
    "blend.to_csv(\"mysubmission2.csv\", index=False)"
   ]
  },
  {
   "cell_type": "code",
   "execution_count": 5,
   "metadata": {},
   "outputs": [
    {
     "data": {
      "text/plain": [
       "0.98064"
      ]
     },
     "execution_count": 5,
     "metadata": {},
     "output_type": "execute_result"
    }
   ],
   "source": [
    "a=0.2\n",
    "b=0.2\n",
    "c=0.6\n",
    "(a*0.979 + b*0.9782 + c*0.982)"
   ]
  }
 ],
 "metadata": {
  "kernelspec": {
   "display_name": "Python [conda env:tensorflow_p36]",
   "language": "python",
   "name": "conda-env-tensorflow_p36-py"
  },
  "language_info": {
   "codemirror_mode": {
    "name": "ipython",
    "version": 3
   },
   "file_extension": ".py",
   "mimetype": "text/x-python",
   "name": "python",
   "nbconvert_exporter": "python",
   "pygments_lexer": "ipython3",
   "version": "3.6.6"
  }
 },
 "nbformat": 4,
 "nbformat_minor": 2
}
