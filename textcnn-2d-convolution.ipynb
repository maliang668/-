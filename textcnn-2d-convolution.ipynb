{
 "cells": [
  {
   "cell_type": "code",
   "execution_count": 1,
   "metadata": {},
   "outputs": [
    {
     "name": "stderr",
     "output_type": "stream",
     "text": [
      "/home/ubuntu/anaconda3/envs/tensorflow_p36/lib/python3.6/site-packages/h5py/__init__.py:36: FutureWarning: Conversion of the second argument of issubdtype from `float` to `np.floating` is deprecated. In future, it will be treated as `np.float64 == np.dtype(float).type`.\n",
      "  from ._conv import register_converters as _register_converters\n",
      "Using TensorFlow backend.\n"
     ]
    }
   ],
   "source": [
    "import numpy as np\n",
    "np.random.seed(42)\n",
    "import pandas as pd\n",
    "\n",
    "from sklearn.model_selection import train_test_split\n",
    "from sklearn.metrics import roc_auc_score\n",
    "\n",
    "from keras.models import Model\n",
    "from keras.layers import Input, Embedding, Dense, Conv2D, MaxPool2D\n",
    "from keras.layers import Reshape, Flatten, Concatenate, Dropout, SpatialDropout1D\n",
    "from keras.preprocessing import text, sequence\n",
    "from keras.callbacks import Callback\n",
    "from keras.callbacks import EarlyStopping, ModelCheckpoint\n",
    "from gensim.models.keyedvectors import KeyedVectors\n",
    " \n",
    "import matplotlib.pyplot as plt\n",
    "%matplotlib inline "
   ]
  },
  {
   "cell_type": "code",
   "execution_count": 2,
   "metadata": {},
   "outputs": [],
   "source": [
    "EMBEDDING_FILE = 'crawl-300d-2M.vec'\n",
    "\n",
    "train = pd.read_csv('train_pre2.csv')\n",
    "test = pd.read_csv('test_pre2.csv')\n",
    "submission = pd.read_csv('sample_submission.csv')"
   ]
  },
  {
   "cell_type": "code",
   "execution_count": 3,
   "metadata": {},
   "outputs": [],
   "source": [
    "X_train = train[\"comment_text\"].fillna(\"fillna\").values\n",
    "y_train = train[[\"toxic\", \"severe_toxic\", \"obscene\", \"threat\", \"insult\", \"identity_hate\"]].values\n",
    "X_test = test[\"comment_text\"].fillna(\"fillna\").values"
   ]
  },
  {
   "cell_type": "code",
   "execution_count": 4,
   "metadata": {},
   "outputs": [
    {
     "data": {
      "text/plain": [
       "'explanation,why,the,edits,made,under,my,username,hardcore,metallica,fan,were,reverted,they,were,not,vandalisms,just,closure,on,some,gas,after,i,voted,at,new,york,dolls,fac,and,please,do,not,remove,the,template,from,the,talk,page,since,i,am,retired,now,89,205,38,27'"
      ]
     },
     "execution_count": 4,
     "metadata": {},
     "output_type": "execute_result"
    }
   ],
   "source": [
    "X_train[0]"
   ]
  },
  {
   "cell_type": "code",
   "execution_count": 5,
   "metadata": {},
   "outputs": [],
   "source": [
    "max_features = 100000\n",
    "max_len = 200\n",
    "embed_size = 300\n",
    "\n",
    "tokenizer = text.Tokenizer(num_words=max_features)\n",
    "tokenizer.fit_on_texts(list(X_train) + list(X_test))\n",
    "X_train = tokenizer.texts_to_sequences(X_train)\n",
    "X_test = tokenizer.texts_to_sequences(X_test)"
   ]
  },
  {
   "cell_type": "code",
   "execution_count": 6,
   "metadata": {},
   "outputs": [],
   "source": [
    "x_train = sequence.pad_sequences(X_train, maxlen=max_len)\n",
    "x_test = sequence.pad_sequences(X_test, maxlen=max_len)"
   ]
  },
  {
   "cell_type": "code",
   "execution_count": 7,
   "metadata": {},
   "outputs": [
    {
     "data": {
      "text/plain": [
       "159571"
      ]
     },
     "execution_count": 7,
     "metadata": {},
     "output_type": "execute_result"
    }
   ],
   "source": [
    "len(x_train)"
   ]
  },
  {
   "cell_type": "code",
   "execution_count": 8,
   "metadata": {},
   "outputs": [
    {
     "data": {
      "text/plain": [
       "159571"
      ]
     },
     "execution_count": 8,
     "metadata": {},
     "output_type": "execute_result"
    }
   ],
   "source": [
    "len(y_train)"
   ]
  },
  {
   "cell_type": "code",
   "execution_count": 9,
   "metadata": {},
   "outputs": [],
   "source": [
    "word_index = tokenizer.word_index"
   ]
  },
  {
   "cell_type": "code",
   "execution_count": 10,
   "metadata": {},
   "outputs": [],
   "source": [
    "nb_words = min(max_features, len(word_index))"
   ]
  },
  {
   "cell_type": "code",
   "execution_count": 11,
   "metadata": {},
   "outputs": [
    {
     "data": {
      "text/plain": [
       "394762"
      ]
     },
     "execution_count": 11,
     "metadata": {},
     "output_type": "execute_result"
    }
   ],
   "source": [
    "len(word_index)"
   ]
  },
  {
   "cell_type": "code",
   "execution_count": 12,
   "metadata": {},
   "outputs": [],
   "source": [
    "model = KeyedVectors.load_word2vec_format(EMBEDDING_FILE, binary=False)"
   ]
  },
  {
   "cell_type": "code",
   "execution_count": 13,
   "metadata": {},
   "outputs": [],
   "source": [
    "def get_embeddings():\n",
    "    embedding_matrix = np.zeros((nb_words, embed_size))\n",
    "    for word, i in word_index.items():\n",
    "        if i >= max_features:\n",
    "            continue\n",
    "        embedding_vector = model[word] if word in model else None\n",
    "        if embedding_vector is not None:\n",
    "            embedding_matrix[i] = embedding_vector\n",
    "\n",
    "    return embedding_matrix"
   ]
  },
  {
   "cell_type": "code",
   "execution_count": 14,
   "metadata": {},
   "outputs": [],
   "source": [
    "embedding_matrix = get_embeddings()"
   ]
  },
  {
   "cell_type": "code",
   "execution_count": 15,
   "metadata": {},
   "outputs": [
    {
     "data": {
      "text/plain": [
       "(100000, 300)"
      ]
     },
     "execution_count": 15,
     "metadata": {},
     "output_type": "execute_result"
    }
   ],
   "source": [
    "embedding_matrix.shape"
   ]
  },
  {
   "cell_type": "code",
   "execution_count": 16,
   "metadata": {},
   "outputs": [],
   "source": [
    "class RocAucEvaluation(Callback):\n",
    "    def __init__(self, validation_data=(), interval=1):\n",
    "        super(Callback, self).__init__()\n",
    "\n",
    "        self.interval = interval\n",
    "        self.X_val, self.y_val = validation_data\n",
    "\n",
    "\n",
    "    def on_epoch_end(self, epoch, logs = {}):\n",
    "        if epoch % self.interval == 0:\n",
    "            y_pred = self.model.predict(self.X_val, verbose=0)\n",
    "            score = roc_auc_score(self.y_val, y_pred)\n",
    "            print(\"\\n ROC-AUC - epoch: %d - score: %.4f \\n\" % (epoch+1, score))\n"
   ]
  },
  {
   "cell_type": "code",
   "execution_count": 17,
   "metadata": {},
   "outputs": [],
   "source": [
    "filter_sizes = [3,4,5]\n",
    "num_filters = 32"
   ]
  },
  {
   "cell_type": "code",
   "execution_count": 36,
   "metadata": {},
   "outputs": [],
   "source": [
    "def get_model(drop):    \n",
    "    inp = Input(shape=(max_len, ))\n",
    "    x = Embedding(max_features, embed_size, weights=[embedding_matrix])(inp)\n",
    "    x = SpatialDropout1D(drop)(x)\n",
    "    x = Reshape((max_len, embed_size, 1))(x)\n",
    "    \n",
    "    conv_0 = Conv2D(num_filters, kernel_size=(filter_sizes[0], embed_size), kernel_initializer='normal',activation='elu')(x)\n",
    "    conv_1 = Conv2D(num_filters, kernel_size=(filter_sizes[1], embed_size), kernel_initializer='normal',activation='elu')(x)\n",
    "    conv_2 = Conv2D(num_filters, kernel_size=(filter_sizes[2], embed_size), kernel_initializer='normal',activation='elu')(x)\n",
    "    \n",
    "    maxpool_0 = MaxPool2D(pool_size=(max_len - filter_sizes[0] + 1, 1),strides=(1,1), padding='valid')(conv_0)\n",
    "    maxpool_1 = MaxPool2D(pool_size=(max_len - filter_sizes[1] + 1, 1),strides=(1,1), padding='valid')(conv_1)\n",
    "    maxpool_2 = MaxPool2D(pool_size=(max_len - filter_sizes[2] + 1, 1),strides=(1,1), padding='valid')(conv_2)\n",
    "        \n",
    "    concatenated_tensor  = Concatenate(axis=1)([maxpool_0, maxpool_1, maxpool_2])   \n",
    "    flatten  = Flatten()(concatenated_tensor)\n",
    "    dropout = Dropout(drop)(flatten)\n",
    "        \n",
    "    output = Dense(6, activation=\"sigmoid\")(dropout)\n",
    "    \n",
    "    model = Model(inputs=inp, outputs=output)\n",
    "    model.compile(loss='binary_crossentropy',\n",
    "                  optimizer='adam',\n",
    "                  metrics=['accuracy'])\n",
    "\n",
    "    return model"
   ]
  },
  {
   "cell_type": "markdown",
   "metadata": {},
   "source": [
    "这里损失函数选择了binary_crossentropy而不是categorical_crossentropy，参考了https://blog.csdn.net/leyounger/article/details/78949709 ，按照文中说明，恶毒评论虽然是一个多标签的分类，但是因为每个数据都可能属于某个，或多个，或0个标签，所以我们可以认为这是一个数据属于任意数量的类别，或者不属于其中的二分类，这样所有类的概率之和则为1。"
   ]
  },
  {
   "cell_type": "code",
   "execution_count": null,
   "metadata": {},
   "outputs": [],
   "source": []
  },
  {
   "cell_type": "code",
   "execution_count": 43,
   "metadata": {},
   "outputs": [],
   "source": [
    "batch_size = 128\n",
    "epochs = 3\n",
    "drop_list = [0.3,0.5,0.7]\n",
    "ls_list = []\n",
    "ac_list = []"
   ]
  },
  {
   "cell_type": "code",
   "execution_count": 44,
   "metadata": {},
   "outputs": [
    {
     "name": "stdout",
     "output_type": "stream",
     "text": [
      "drop: 0.3\n",
      "Train on 119678 samples, validate on 39893 samples\n",
      "Epoch 1/3\n",
      " - 74s - loss: 0.0694 - acc: 0.9771 - val_loss: 0.0462 - val_acc: 0.9831\n",
      "\n",
      " ROC-AUC - epoch: 1 - score: 0.9826 \n",
      "\n",
      "Epoch 2/3\n",
      " - 71s - loss: 0.0460 - acc: 0.9830 - val_loss: 0.0443 - val_acc: 0.9836\n",
      "\n",
      " ROC-AUC - epoch: 2 - score: 0.9864 \n",
      "\n",
      "Epoch 3/3\n",
      " - 72s - loss: 0.0391 - acc: 0.9851 - val_loss: 0.0454 - val_acc: 0.9831\n",
      "\n",
      " ROC-AUC - epoch: 3 - score: 0.9860 \n",
      "\n",
      "drop: 0.5\n",
      "Train on 119678 samples, validate on 39893 samples\n",
      "Epoch 1/3\n",
      " - 73s - loss: 0.0860 - acc: 0.9726 - val_loss: 0.0498 - val_acc: 0.9822\n",
      "\n",
      " ROC-AUC - epoch: 1 - score: 0.9769 \n",
      "\n",
      "Epoch 2/3\n",
      " - 72s - loss: 0.0542 - acc: 0.9812 - val_loss: 0.0467 - val_acc: 0.9832\n",
      "\n",
      " ROC-AUC - epoch: 2 - score: 0.9840 \n",
      "\n",
      "Epoch 3/3\n",
      " - 72s - loss: 0.0491 - acc: 0.9824 - val_loss: 0.0463 - val_acc: 0.9830\n",
      "\n",
      " ROC-AUC - epoch: 3 - score: 0.9847 \n",
      "\n",
      "drop: 0.7\n",
      "Train on 119678 samples, validate on 39893 samples\n",
      "Epoch 1/3\n",
      " - 73s - loss: 0.1361 - acc: 0.9598 - val_loss: 0.0628 - val_acc: 0.9801\n",
      "\n",
      " ROC-AUC - epoch: 1 - score: 0.9566 \n",
      "\n",
      "Epoch 2/3\n",
      " - 71s - loss: 0.0723 - acc: 0.9775 - val_loss: 0.0575 - val_acc: 0.9811\n",
      "\n",
      " ROC-AUC - epoch: 2 - score: 0.9712 \n",
      "\n",
      "Epoch 3/3\n",
      " - 72s - loss: 0.0647 - acc: 0.9788 - val_loss: 0.0534 - val_acc: 0.9815\n",
      "\n",
      " ROC-AUC - epoch: 3 - score: 0.9760 \n",
      "\n"
     ]
    }
   ],
   "source": [
    "X_tra, X_val, y_tra, y_val = train_test_split(x_train, y_train, test_size=0.25, random_state=18)\n",
    "RocAuc = RocAucEvaluation(validation_data=(X_val, y_val), interval=1)\n",
    "for drop in drop_list:\n",
    "    model = get_model(drop)\n",
    "    print('drop:',drop)\n",
    "    hist = model.fit(X_tra, y_tra, batch_size=batch_size, epochs=epochs, validation_data=(X_val, y_val),callbacks=[RocAuc],verbose=2)\n",
    "    ls_list.append(hist.history['val_loss'])\n",
    "    ac_list.append(hist.history['val_acc'])"
   ]
  },
  {
   "cell_type": "code",
   "execution_count": 47,
   "metadata": {},
   "outputs": [],
   "source": [
    "# val_loss学习曲线\n",
    "color_list = ['tab:blue', 'tab:orange', 'tab:green']"
   ]
  },
  {
   "cell_type": "code",
   "execution_count": 48,
   "metadata": {},
   "outputs": [
    {
     "data": {
      "image/png": "[encoded data removed]",
      "text/plain": [
       "<Figure size 432x288 with 1 Axes>"
      ]
     },
     "metadata": {},
     "output_type": "display_data"
    }
   ],
   "source": [
    "for i in range(len(ls_list)):\n",
    "    plt.plot(ls_list[i], color = color_list[i], label = drop_list[i])\n",
    "plt.title('Dropout with Val_Loss')\n",
    "plt.xlabel('Times')\n",
    "plt.ylabel('Val_Loss')\n",
    "plt.legend()\n",
    "plt.show()"
   ]
  },
  {
   "cell_type": "code",
   "execution_count": 49,
   "metadata": {
    "scrolled": false
   },
   "outputs": [
    {
     "data": {
      "image/png": "[encoded data removed]",
      "text/plain": [
       "<Figure size 432x288 with 1 Axes>"
      ]
     },
     "metadata": {},
     "output_type": "display_data"
    }
   ],
   "source": [
    "plt.plot(drop_list, [ x[-1:] for x in ls_list ])\n",
    "plt.title('Last Dropout with Val_Loss')\n",
    "plt.xlabel('Dropout Rate')\n",
    "plt.ylabel('Val_Loss')\n",
    "plt.show()"
   ]
  },
  {
   "cell_type": "markdown",
   "metadata": {},
   "source": [
    "可以看出0.3的时候效果最好，然后我们再在embedding层进行加上trainable = True来对词向量进行稍稍的训练"
   ]
  },
  {
   "cell_type": "code",
   "execution_count": 50,
   "metadata": {},
   "outputs": [],
   "source": [
    "def final_model():    \n",
    "    inp = Input(shape=(max_len, ))\n",
    "    x = Embedding(max_features, embed_size, weights=[embedding_matrix],trainable = True)(inp)\n",
    "    x = SpatialDropout1D(0.3)(x)\n",
    "    x = Reshape((max_len, embed_size, 1))(x)\n",
    "    \n",
    "    conv_0 = Conv2D(num_filters, kernel_size=(filter_sizes[0], embed_size), kernel_initializer='normal',activation='elu')(x)\n",
    "    conv_1 = Conv2D(num_filters, kernel_size=(filter_sizes[1], embed_size), kernel_initializer='normal',activation='elu')(x)\n",
    "    conv_2 = Conv2D(num_filters, kernel_size=(filter_sizes[2], embed_size), kernel_initializer='normal',activation='elu')(x)\n",
    "    \n",
    "    maxpool_0 = MaxPool2D(pool_size=(max_len - filter_sizes[0] + 1, 1),strides=(1,1), padding='valid')(conv_0)\n",
    "    maxpool_1 = MaxPool2D(pool_size=(max_len - filter_sizes[1] + 1, 1),strides=(1,1), padding='valid')(conv_1)\n",
    "    maxpool_2 = MaxPool2D(pool_size=(max_len - filter_sizes[2] + 1, 1),strides=(1,1), padding='valid')(conv_2)\n",
    "        \n",
    "    concatenated_tensor  = Concatenate(axis=1)([maxpool_0, maxpool_1, maxpool_2])   \n",
    "    flatten  = Flatten()(concatenated_tensor)\n",
    "    dropout = Dropout(0.3)(flatten)\n",
    "        \n",
    "    output = Dense(6, activation=\"sigmoid\")(dropout)\n",
    "    \n",
    "    model = Model(inputs=inp, outputs=output)\n",
    "    model.compile(loss='binary_crossentropy',\n",
    "                  optimizer='adam',\n",
    "                  metrics=['accuracy'])\n",
    "\n",
    "    return model"
   ]
  },
  {
   "cell_type": "code",
   "execution_count": 52,
   "metadata": {},
   "outputs": [],
   "source": [
    "model_1 = final_model( )\n",
    "file_path = \"textcnn_weights_base2.best.hdf5\"\n",
    "checkpoint = ModelCheckpoint(file_path, monitor='val_loss', verbose=1, save_best_only=True, mode='auto')\n",
    "early = EarlyStopping(monitor=\"val_loss\", mode=\"auto\", patience=10)\n",
    "callbacks_list = [checkpoint, early, RocAuc]"
   ]
  },
  {
   "cell_type": "code",
   "execution_count": 53,
   "metadata": {},
   "outputs": [
    {
     "name": "stdout",
     "output_type": "stream",
     "text": [
      "Train on 119678 samples, validate on 39893 samples\n",
      "Epoch 1/10\n",
      "119678/119678 [==============================] - 75s 626us/step - loss: 0.0745 - acc: 0.9751 - val_loss: 0.0475 - val_acc: 0.9830\n",
      "\n",
      "Epoch 00001: val_loss improved from inf to 0.04754, saving model to textcnn_weights_base2.best.hdf5\n",
      "\n",
      " ROC-AUC - epoch: 1 - score: 0.9817 \n",
      "\n",
      "Epoch 2/10\n",
      "119678/119678 [==============================] - 73s 609us/step - loss: 0.0463 - acc: 0.9831 - val_loss: 0.0441 - val_acc: 0.9837\n",
      "\n",
      "Epoch 00002: val_loss improved from 0.04754 to 0.04409, saving model to textcnn_weights_base2.best.hdf5\n",
      "\n",
      " ROC-AUC - epoch: 2 - score: 0.9855 \n",
      "\n",
      "Epoch 3/10\n",
      "119678/119678 [==============================] - 73s 610us/step - loss: 0.0393 - acc: 0.9852 - val_loss: 0.0449 - val_acc: 0.9834\n",
      "\n",
      "Epoch 00003: val_loss did not improve from 0.04409\n",
      "\n",
      " ROC-AUC - epoch: 3 - score: 0.9860 \n",
      "\n",
      "Epoch 4/10\n",
      "119678/119678 [==============================] - 73s 610us/step - loss: 0.0339 - acc: 0.9871 - val_loss: 0.0457 - val_acc: 0.9836\n",
      "\n",
      "Epoch 00004: val_loss did not improve from 0.04409\n",
      "\n",
      " ROC-AUC - epoch: 4 - score: 0.9851 \n",
      "\n",
      "Epoch 5/10\n",
      "119678/119678 [==============================] - 73s 610us/step - loss: 0.0296 - acc: 0.9887 - val_loss: 0.0483 - val_acc: 0.9829\n",
      "\n",
      "Epoch 00005: val_loss did not improve from 0.04409\n",
      "\n",
      " ROC-AUC - epoch: 5 - score: 0.9840 \n",
      "\n",
      "Epoch 6/10\n",
      "119678/119678 [==============================] - 73s 609us/step - loss: 0.0257 - acc: 0.9903 - val_loss: 0.0535 - val_acc: 0.9827\n",
      "\n",
      "Epoch 00006: val_loss did not improve from 0.04409\n",
      "\n",
      " ROC-AUC - epoch: 6 - score: 0.9814 \n",
      "\n",
      "Epoch 7/10\n",
      "119678/119678 [==============================] - 73s 609us/step - loss: 0.0219 - acc: 0.9919 - val_loss: 0.0573 - val_acc: 0.9825\n",
      "\n",
      "Epoch 00007: val_loss did not improve from 0.04409\n",
      "\n",
      " ROC-AUC - epoch: 7 - score: 0.9778 \n",
      "\n",
      "Epoch 8/10\n",
      "119678/119678 [==============================] - 73s 609us/step - loss: 0.0194 - acc: 0.9929 - val_loss: 0.0593 - val_acc: 0.9824\n",
      "\n",
      "Epoch 00008: val_loss did not improve from 0.04409\n",
      "\n",
      " ROC-AUC - epoch: 8 - score: 0.9758 \n",
      "\n",
      "Epoch 9/10\n",
      "119678/119678 [==============================] - 73s 609us/step - loss: 0.0177 - acc: 0.9935 - val_loss: 0.0633 - val_acc: 0.9824\n",
      "\n",
      "Epoch 00009: val_loss did not improve from 0.04409\n",
      "\n",
      " ROC-AUC - epoch: 9 - score: 0.9744 \n",
      "\n",
      "Epoch 10/10\n",
      "119678/119678 [==============================] - 73s 609us/step - loss: 0.0158 - acc: 0.9942 - val_loss: 0.0674 - val_acc: 0.9821\n",
      "\n",
      "Epoch 00010: val_loss did not improve from 0.04409\n",
      "\n",
      " ROC-AUC - epoch: 10 - score: 0.9716 \n",
      "\n"
     ]
    }
   ],
   "source": [
    "history = model_1.fit(X_tra, y_tra, batch_size=batch_size, epochs=10, validation_data=(X_val, y_val),\n",
    "                 callbacks=callbacks_list)"
   ]
  },
  {
   "cell_type": "markdown",
   "metadata": {},
   "source": [
    "第三个epoch就不更新了，可见10次有点多余，不过用了提前停止，保存了最优参数"
   ]
  },
  {
   "cell_type": "code",
   "execution_count": 54,
   "metadata": {},
   "outputs": [],
   "source": [
    "model.load_weights(file_path)"
   ]
  },
  {
   "cell_type": "code",
   "execution_count": 55,
   "metadata": {},
   "outputs": [],
   "source": [
    "y_pred = model.predict(x_test)\n",
    "submission[[\"toxic\", \"severe_toxic\", \"obscene\", \"threat\", \"insult\", \"identity_hate\"]] = y_pred\n",
    "submission.to_csv('submission-textcnn2.csv', index=False)"
   ]
  },
  {
   "cell_type": "code",
   "execution_count": null,
   "metadata": {},
   "outputs": [],
   "source": [
    "cv_id = random."
   ]
  }
 ],
 "metadata": {
  "kernelspec": {
   "display_name": "Python [conda env:tensorflow_p36]",
   "language": "python",
   "name": "conda-env-tensorflow_p36-py"
  },
  "language_info": {
   "codemirror_mode": {
    "name": "ipython",
    "version": 3
   },
   "file_extension": ".py",
   "mimetype": "text/x-python",
   "name": "python",
   "nbconvert_exporter": "python",
   "pygments_lexer": "ipython3",
   "version": "3.6.6"
  }
 },
 "nbformat": 4,
 "nbformat_minor": 2
}
